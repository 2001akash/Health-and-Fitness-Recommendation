{
  "nbformat": 4,
  "nbformat_minor": 0,
  "metadata": {
    "colab": {
      "provenance": [],
      "authorship_tag": "ABX9TyOMfMWv0mqzKVGkJwukwNXQ",
      "include_colab_link": true
    },
    "kernelspec": {
      "name": "python3",
      "display_name": "Python 3"
    },
    "language_info": {
      "name": "python"
    }
  },
  "cells": [
    {
      "cell_type": "markdown",
      "metadata": {
        "id": "view-in-github",
        "colab_type": "text"
      },
      "source": [
        "<a href=\"https://colab.research.google.com/github/2001akash/Health-and-Fitness-Recommendation/blob/main/Health_and_Fitness_Recommendation.ipynb\" target=\"_parent\"><img src=\"https://colab.research.google.com/assets/colab-badge.svg\" alt=\"Open In Colab\"/></a>"
      ]
    },
    {
      "cell_type": "code",
      "execution_count": 9,
      "metadata": {
        "colab": {
          "base_uri": "https://localhost:8080/"
        },
        "id": "dgpJBV7ooyRV",
        "outputId": "5956c98b-2dd4-48f5-80c5-948416e7d552"
      },
      "outputs": [
        {
          "output_type": "stream",
          "name": "stdout",
          "text": [
            "Mean Squared Error: 3822919.00\n",
            "Recommended Step Count: 10928.79 steps\n"
          ]
        }
      ],
      "source": [
        "import pandas as pd\n",
        "from sklearn.model_selection import train_test_split\n",
        "from sklearn.linear_model import LinearRegression\n",
        "import numpy as np\n",
        "import warnings\n",
        "\n",
        "warnings.filterwarnings(\"ignore\", category=UserWarning, message=\"X does not have valid feature names, but LinearRegression was fitted with feature names\")\n",
        "\n",
        "# Rest of the code\n",
        "\n",
        "# Step 1: Data Preprocessing\n",
        "# Load the dataset\n",
        "df = pd.read_csv('25.csv')\n",
        "\n",
        "# Drop missing values\n",
        "df.dropna(inplace=True)\n",
        "\n",
        "# Feature Engineering\n",
        "# Define features and target variable\n",
        "features = ['weight_kg', 'bool_of_active', 'mood']\n",
        "target = 'step_count'\n",
        "\n",
        "# Step 2: Model Selection\n",
        "# Select a model (Linear Regression in this example)\n",
        "model = LinearRegression()\n",
        "\n",
        "# Step 3: Model Training\n",
        "# Split the data into training and testing sets\n",
        "X = df[features]\n",
        "y = df[target]\n",
        "X_train, X_test, y_train, y_test = train_test_split(X, y, test_size=0.2, random_state=42)\n",
        "\n",
        "# Train the model\n",
        "model.fit(X_train, y_train)\n",
        "\n",
        "# Step 4: Model Evaluation\n",
        "# Evaluate the model on the test set\n",
        "y_pred = model.predict(X_test)\n",
        "\n",
        "# Calculate a performance metric (e.g., mean squared error)\n",
        "mse = np.mean((y_pred - y_test)**2)\n",
        "\n",
        "# Print the performance metric\n",
        "print(f\"Mean Squared Error: {mse:.2f}\")\n",
        "\n",
        "# Step 5: Recommendation Generation\n",
        "# For a new user, input their data\n",
        "new_user_data = {\n",
        "    'weight_kg': 75,\n",
        "    'bool_of_active': 1,\n",
        "    'mood': 300\n",
        "}\n",
        "\n",
        "# Predict the recommended step count for the new user\n",
        "predicted_step_count = model.predict([list(new_user_data.values())])\n",
        "\n",
        "# Print the recommendation\n",
        "print(f\"Recommended Step Count: {predicted_step_count[0]:.2f} steps\")\n"
      ]
    }
  ]
}